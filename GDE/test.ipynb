{
 "cells": [
  {
   "cell_type": "code",
   "execution_count": 1,
   "metadata": {},
   "outputs": [],
   "source": [
    "import scipy.sparse as sp \n",
    "import pandas as pd \n",
    "import numpy as np \n",
    "import torch\n",
    "import gc \n",
    "import os "
   ]
  },
  {
   "cell_type": "code",
   "execution_count": 2,
   "metadata": {},
   "outputs": [],
   "source": [
    "\n",
    "user_size=None\n",
    "item_size=None\n",
    "dataset=None\n",
    "\n",
    "smooth_ratio = 0.1 # only top 20% eigenvalues will be choosed to create smooth graph\n",
    "rough_ratio = 0.002 # only last 0.2% eigenvalues will be choosed to create rough graph\n",
    "\n",
    "cache_file = os.path.abspath('./cache')\n",
    "dataset = 'pinterest'"
   ]
  },
  {
   "cell_type": "code",
   "execution_count": 3,
   "metadata": {},
   "outputs": [],
   "source": [
    "def cal_spectral_feature(Adj:torch.tensor,#邻接矩阵\n",
    "                         size:int,#topk 个\n",
    "                         side:str = 'user', # 生成用户、产品侧\n",
    "                         largest:bool = True, # 提取Smooth、rough 子图\n",
    "                         niter = 5\n",
    "                         ):\n",
    "    '''\n",
    "    通过Lobpcg 算法 获取前(后)k 个特征向量、特征值\n",
    "    '''\n",
    "    print('进行谱分解')\n",
    "    value,vector = torch.lobpcg(Adj,k=size,largest=largest,niter=niter)\n",
    "    \n",
    "    if largest:\n",
    "        feature_file_name = os.path.join(cache_file,f'{dataset}_smooth_{side}_features.pt')\n",
    "        value_file_name = os.path.join(cache_file,f'{dataset}_smooth_{side}_values.pt')\n",
    "    else:\n",
    "        feature_file_name = os.path.join(cache_file,f'{dataset}_rough_{side}_features.pt')\n",
    "        value_file_name = os.path.join(cache_file,f'{dataset}_rough_{side}_values.pt')\n",
    "    print('输出文件')\n",
    "    torch.save(vector,feature_file_name)\n",
    "    torch.save(value,value_file_name)"
   ]
  },
  {
   "cell_type": "code",
   "execution_count": 4,
   "metadata": {},
   "outputs": [
    {
     "name": "stderr",
     "output_type": "stream",
     "text": [
      "/var/folders/2r/2vpfv8ys6k53z86mjvfr46j40000gn/T/ipykernel_19310/452146692.py:9: RuntimeWarning: divide by zero encountered in power\n",
      "  item_degree = np.power(R.sum(0),-0.5).flatten()\n"
     ]
    },
    {
     "name": "stdout",
     "output_type": "stream",
     "text": [
      "User Side Adjancy Marix shape (37501, 37501)\n",
      "Item Side Adjancy Marix shape (9831, 9831)\n"
     ]
    },
    {
     "data": {
      "text/plain": [
       "0"
      ]
     },
     "execution_count": 4,
     "metadata": {},
     "output_type": "execute_result"
    }
   ],
   "source": [
    "df = pd.read_csv('/Users/yangbichen/Documents/ML算法code/图/GnnCode/datasets/pinterest/train_sparse.csv')\n",
    "df = df.drop_duplicates()\n",
    "col = df.iloc[:,0]\n",
    "row = df.iloc[:,1]\n",
    "R = sp.csr_matrix(([1]*df.shape[0],(col,row)))\n",
    "torch.save(torch.Tensor(R.todense()),f'{cache_file}/pinterest/train_rate_tensor.pkl')\n",
    "\n",
    "user_degree = np.power(R.sum(1),-0.5).flatten()\n",
    "item_degree = np.power(R.sum(0),-0.5).flatten()\n",
    "user_degree[np.isinf(user_degree)]=0\n",
    "item_degree[np.isinf(item_degree)]=0\n",
    "Du = sp.diags(np.array(user_degree).flatten(),0)\n",
    "Di = sp.diags(np.array(item_degree).flatten(),0)\n",
    "Au = Du.dot(R).dot(Di.power(2)).dot(R.transpose()).dot(Du)\n",
    "Ai = Di.dot(R.transpose()).dot(Du.power(2)).dot(R).dot(Di)\n",
    "\n",
    "\n",
    "Au = Au.tocoo()\n",
    "Ai = Ai.tocoo()\n",
    "\n",
    "Au_sp=torch.sparse_coo_tensor(torch.Tensor([Au.row.tolist(),Au.col.tolist()]),\n",
    "                            torch.Tensor(Au.data))\n",
    "Ai_sp=torch.sparse_coo_tensor(torch.Tensor([Ai.row.tolist(),Ai.col.tolist()]),\n",
    "                            torch.Tensor(Ai.data))\n",
    "\n",
    "\n",
    "print(f'User Side Adjancy Marix shape {Au.shape}')\n",
    "print(f'Item Side Adjancy Marix shape {Ai.shape}')\n",
    "\n",
    "del df,R,user_degree,item_degree,Du,Di,Au,Ai\n",
    "gc.collect()\n",
    "\n",
    "\n"
   ]
  },
  {
   "cell_type": "code",
   "execution_count": 5,
   "metadata": {},
   "outputs": [
    {
     "name": "stdout",
     "output_type": "stream",
     "text": [
      "cal user side smooth spectral feature\n",
      "进行谱分解\n"
     ]
    },
    {
     "name": "stderr",
     "output_type": "stream",
     "text": [
      "/Users/yangbichen/opt/anaconda3/envs/pytorch1.9/lib/python3.8/site-packages/torch/_lobpcg.py:946: UserWarning: torch.triangular_solve is deprecated in favor of torch.linalg.solve_triangularand will be removed in a future PyTorch release.\n",
      "torch.linalg.solve_triangular has its arguments reversed and does not return a copy of one of the inputs.\n",
      "X = torch.triangular_solve(B, A).solution\n",
      "should be replaced with\n",
      "X = torch.linalg.solve_triangular(A, B). (Triggered internally at  /Users/distiller/project/pytorch/aten/src/ATen/native/BatchLinearAlgebra.cpp:1672.)\n",
      "  Rinv = torch.triangular_solve(Id, R, upper=True).solution\n"
     ]
    },
    {
     "name": "stdout",
     "output_type": "stream",
     "text": [
      "输出文件\n",
      "cal user side rough spectral feature\n",
      "进行谱分解\n",
      "输出文件\n"
     ]
    }
   ],
   "source": [
    "from utils import checkAndGetNodeSize\n",
    "user_size,item_size = checkAndGetNodeSize('pinterest')\n",
    "print('cal user side smooth spectral feature')\n",
    "cal_spectral_feature(Au_sp,int(smooth_ratio*user_size),'user',True)\n",
    "if rough_ratio!=0:\n",
    "    print('cal user side rough spectral feature')\n",
    "    cal_spectral_feature(Au_sp,int(rough_ratio*user_size),'user',False)"
   ]
  },
  {
   "cell_type": "code",
   "execution_count": 6,
   "metadata": {},
   "outputs": [
    {
     "name": "stdout",
     "output_type": "stream",
     "text": [
      "cal item side smooth spectral feature\n",
      "进行谱分解\n",
      "输出文件\n",
      "cal item side rough spectral feature\n",
      "进行谱分解\n",
      "输出文件\n"
     ]
    },
    {
     "data": {
      "text/plain": [
       "0"
      ]
     },
     "execution_count": 6,
     "metadata": {},
     "output_type": "execute_result"
    }
   ],
   "source": [
    "print('cal item side smooth spectral feature')\n",
    "cal_spectral_feature(Ai_sp,int(smooth_ratio*item_size),'item',True)\n",
    "if rough_ratio!=0:\n",
    "    print('cal item side rough spectral feature')\n",
    "    cal_spectral_feature(Ai_sp,int(rough_ratio*item_size),'item',False)\n",
    "\n",
    "del Au_sp,Ai_sp \n",
    "gc.collect()"
   ]
  },
  {
   "cell_type": "code",
   "execution_count": 5,
   "metadata": {},
   "outputs": [
    {
     "name": "stderr",
     "output_type": "stream",
     "text": [
      "/Users/yangbichen/opt/anaconda3/envs/pytorch1.9/lib/python3.8/site-packages/torch/_lobpcg.py:946: UserWarning: torch.triangular_solve is deprecated in favor of torch.linalg.solve_triangularand will be removed in a future PyTorch release.\n",
      "torch.linalg.solve_triangular has its arguments reversed and does not return a copy of one of the inputs.\n",
      "X = torch.triangular_solve(B, A).solution\n",
      "should be replaced with\n",
      "X = torch.linalg.solve_triangular(A, B). (Triggered internally at  /Users/distiller/project/pytorch/aten/src/ATen/native/BatchLinearAlgebra.cpp:1672.)\n",
      "  Rinv = torch.triangular_solve(Id, R, upper=True).solution\n"
     ]
    }
   ],
   "source": [
    "value,vector = torch.lobpcg(Au_sp,k=5,largest=True,niter=5)"
   ]
  },
  {
   "cell_type": "code",
   "execution_count": 42,
   "metadata": {},
   "outputs": [
    {
     "name": "stderr",
     "output_type": "stream",
     "text": [
      "/Users/yangbichen/opt/anaconda3/envs/pytorch1.9/lib/python3.8/site-packages/torch/_lobpcg.py:946: UserWarning: torch.triangular_solve is deprecated in favor of torch.linalg.solve_triangularand will be removed in a future PyTorch release.\n",
      "torch.linalg.solve_triangular has its arguments reversed and does not return a copy of one of the inputs.\n",
      "X = torch.triangular_solve(B, A).solution\n",
      "should be replaced with\n",
      "X = torch.linalg.solve_triangular(A, B). (Triggered internally at  /Users/distiller/project/pytorch/aten/src/ATen/native/BatchLinearAlgebra.cpp:1672.)\n",
      "  Rinv = torch.triangular_solve(Id, R, upper=True).solution\n"
     ]
    }
   ],
   "source": [
    "Au_tensor=torch.sparse_coo_tensor(torch.Tensor([Au.row.tolist(),Au.col.tolist()]),\n",
    "                             torch.Tensor(Au.data))\n",
    "value,vector = torch.lobpcg(Au_tensor,k=5,largest=True,niter=5)"
   ]
  },
  {
   "cell_type": "code",
   "execution_count": 44,
   "metadata": {},
   "outputs": [
    {
     "data": {
      "text/plain": [
       "tensor([[ 0.0020,  0.0022,  0.0026, -0.0006, -0.0004],\n",
       "        [ 0.0026,  0.0037,  0.0014, -0.0035, -0.0016],\n",
       "        [ 0.0014,  0.0038, -0.0030, -0.0063,  0.0051],\n",
       "        ...,\n",
       "        [ 0.0056,  0.0083,  0.0021,  0.0023, -0.0027],\n",
       "        [ 0.0036,  0.0078,  0.0028,  0.0026,  0.0018],\n",
       "        [ 0.0018,  0.0020,  0.0023, -0.0052,  0.0009]])"
      ]
     },
     "execution_count": 44,
     "metadata": {},
     "output_type": "execute_result"
    }
   ],
   "source": [
    "vector"
   ]
  },
  {
   "cell_type": "code",
   "execution_count": 5,
   "metadata": {},
   "outputs": [],
   "source": [
    "from utils import checkAndGetNodeSize\n",
    "user_size,item_size = checkAndGetNodeSize('pinterest')"
   ]
  },
  {
   "cell_type": "code",
   "execution_count": 6,
   "metadata": {},
   "outputs": [
    {
     "name": "stdout",
     "output_type": "stream",
     "text": [
      "cal user side smooth spectral feature\n"
     ]
    }
   ],
   "source": [
    "\n",
    "print('cal user side smooth spectral feature')\n",
    "cal_spectral_feature(Au,int(smooth_ratio*user_size),'user',True)\n"
   ]
  },
  {
   "cell_type": "code",
   "execution_count": null,
   "metadata": {},
   "outputs": [],
   "source": [
    "if rough_ratio!=0:\n",
    "    print('cal user side rough spectral feature')\n",
    "    cal_spectral_feature(Au,int(rough_ratio*user_size),'user',False)\n",
    "\n",
    "print('cal item side smooth spectral feature')\n",
    "cal_spectral_feature(Ai,int(smooth_ratio*item_size),'item',True)\n",
    "if rough_ratio!=0:\n",
    "    print('cal item side rough spectral feature')\n",
    "    cal_spectral_feature(Ai,int(rough_ratio*item_size),'item',False)\n",
    "\n",
    "del Au,Ai \n",
    "gc.collect()"
   ]
  },
  {
   "cell_type": "code",
   "execution_count": 12,
   "metadata": {},
   "outputs": [],
   "source": [
    "R = torch.load('cache/pinterest/train_rate_tensor.pkl')"
   ]
  },
  {
   "cell_type": "code",
   "execution_count": 13,
   "metadata": {},
   "outputs": [],
   "source": [
    "R = torch.Tensor(R)"
   ]
  },
  {
   "cell_type": "code",
   "execution_count": 15,
   "metadata": {},
   "outputs": [],
   "source": [
    "torch.save(R,'cache/pinterest/train_rate_tensor.pkl')"
   ]
  },
  {
   "cell_type": "code",
   "execution_count": 22,
   "metadata": {},
   "outputs": [
    {
     "data": {
      "text/plain": [
       "9830"
      ]
     },
     "execution_count": 22,
     "metadata": {},
     "output_type": "execute_result"
    }
   ],
   "source": [
    "df = pd.read_csv('/Users/yangbichen/Documents/ML算法code/图/GnnCode/datasets/pinterest/train_sparse.csv')\n",
    "df.item.max()"
   ]
  },
  {
   "cell_type": "code",
   "execution_count": 24,
   "metadata": {},
   "outputs": [
    {
     "data": {
      "text/plain": [
       "9830"
      ]
     },
     "execution_count": 24,
     "metadata": {},
     "output_type": "execute_result"
    }
   ],
   "source": [
    "df.item.max()"
   ]
  },
  {
   "cell_type": "code",
   "execution_count": null,
   "metadata": {},
   "outputs": [],
   "source": [
    "df = df.drop_duplicates()"
   ]
  },
  {
   "cell_type": "code",
   "execution_count": 25,
   "metadata": {},
   "outputs": [
    {
     "data": {
      "text/plain": [
       "True"
      ]
     },
     "execution_count": 25,
     "metadata": {},
     "output_type": "execute_result"
    }
   ],
   "source": [
    "0==0."
   ]
  },
  {
   "cell_type": "code",
   "execution_count": null,
   "metadata": {},
   "outputs": [],
   "source": []
  }
 ],
 "metadata": {
  "kernelspec": {
   "display_name": "Python 3.8.12 ('pytorch1.9')",
   "language": "python",
   "name": "python3"
  },
  "language_info": {
   "codemirror_mode": {
    "name": "ipython",
    "version": 3
   },
   "file_extension": ".py",
   "mimetype": "text/x-python",
   "name": "python",
   "nbconvert_exporter": "python",
   "pygments_lexer": "ipython3",
   "version": "3.8.12"
  },
  "orig_nbformat": 4,
  "vscode": {
   "interpreter": {
    "hash": "ca001f4215888d8ea16b51ee26d57194a73bf1104676f49e8f5e52e35be82f9f"
   }
  }
 },
 "nbformat": 4,
 "nbformat_minor": 2
}
