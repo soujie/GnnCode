{
 "cells": [
  {
   "cell_type": "code",
   "execution_count": null,
   "metadata": {},
   "outputs": [],
   "source": []
  }
 ],
 "metadata": {
  "interpreter": {
   "hash": "ca001f4215888d8ea16b51ee26d57194a73bf1104676f49e8f5e52e35be82f9f"
  },
  "kernelspec": {
   "display_name": "Python 3.8.12 ('pytorch1.9')",
   "language": "python",
   "name": "python3"
  },
  "language_info": {
   "name": "python",
   "version": "3.8.12"
  },
  "orig_nbformat": 4
 },
 "nbformat": 4,
 "nbformat_minor": 2
}
